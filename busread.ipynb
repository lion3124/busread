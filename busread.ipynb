{
  "nbformat": 4,
  "nbformat_minor": 0,
  "metadata": {
    "colab": {
      "provenance": [],
      "authorship_tag": "ABX9TyPIc4IOYiafdCuoeOQVOc8P",
      "include_colab_link": true
    },
    "kernelspec": {
      "name": "python3",
      "display_name": "Python 3"
    },
    "language_info": {
      "name": "python"
    }
  },
  "cells": [
    {
      "cell_type": "markdown",
      "metadata": {
        "id": "view-in-github",
        "colab_type": "text"
      },
      "source": [
        "<a href=\"https://colab.research.google.com/github/lion3124/busread/blob/main/busread.ipynb\" target=\"_parent\"><img src=\"https://colab.research.google.com/assets/colab-badge.svg\" alt=\"Open In Colab\"/></a>"
      ]
    },
    {
      "cell_type": "code",
      "execution_count": 19,
      "metadata": {
        "colab": {
          "base_uri": "https://localhost:8080/"
        },
        "id": "2CvTfTB9Zw82",
        "outputId": "b51a5bd2-ce66-422f-9767-4f664cf5ab71"
      },
      "outputs": [
        {
          "output_type": "stream",
          "name": "stdout",
          "text": [
            "<OpenAPI_ServiceResponse>\n",
            "\t<cmmMsgHeader>\n",
            "\t\t<errMsg>SERVICE ERROR</errMsg>\n",
            "\t\t<returnAuthMsg>SERVICE_ACCESS_DENIED_ERROR</returnAuthMsg>\n",
            "\t\t<returnReasonCode>20</returnReasonCode>\n",
            "\t</cmmMsgHeader>\n",
            "</OpenAPI_ServiceResponse>\n"
          ]
        }
      ],
      "source": [
        "import requests\n",
        "url='http://apis.data.go.kr/6410000/buslocationservice/getBusLocationList?serviceKey=TrP4dHAFzkbYiMCqYO3uL4UF0Kem6MW4G8cYW72QDd%2BOHtHjpyHNYJOZ819N8dZaUfZwgZBZw%2FSOX8XNGfvdpg%3D%3D&routeId=218000011'\n",
        "#url='http://openapi.gbis.go.kr/ws/rest/buslocationservice?serviceKey=1234567890&routeId=234000002'\n",
        "r = requests.get(url)\n",
        "print(r.text)"
      ]
    },
    {
      "cell_type": "code",
      "source": [
        "from bs4 import BeautifulSoup\n",
        "\n",
        "soup = BeautifulSoup(r.text, features=\"xml\")"
      ],
      "metadata": {
        "id": "qSlWOrmaZ3df"
      },
      "execution_count": 20,
      "outputs": []
    },
    {
      "cell_type": "code",
      "source": [
        "soup.find_all('stationId')"
      ],
      "metadata": {
        "colab": {
          "base_uri": "https://localhost:8080/"
        },
        "id": "bKcl7EvFeK8O",
        "outputId": "893299bc-9061-4fda-9346-9d04806c71f5"
      },
      "execution_count": 24,
      "outputs": [
        {
          "output_type": "execute_result",
          "data": {
            "text/plain": [
              "[]"
            ]
          },
          "metadata": {},
          "execution_count": 24
        }
      ]
    }
  ]
}