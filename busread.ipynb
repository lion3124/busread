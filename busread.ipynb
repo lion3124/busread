{
  "nbformat": 4,
  "nbformat_minor": 0,
  "metadata": {
    "colab": {
      "provenance": [],
      "authorship_tag": "ABX9TyMz9q8Qzg+dkqvDv+f2fDTD",
      "include_colab_link": true
    },
    "kernelspec": {
      "name": "python3",
      "display_name": "Python 3"
    },
    "language_info": {
      "name": "python"
    }
  },
  "cells": [
    {
      "cell_type": "markdown",
      "metadata": {
        "id": "view-in-github",
        "colab_type": "text"
      },
      "source": [
        "<a href=\"https://colab.research.google.com/github/lion3124/busread/blob/main/busread.ipynb\" target=\"_parent\"><img src=\"https://colab.research.google.com/assets/colab-badge.svg\" alt=\"Open In Colab\"/></a>"
      ]
    },
    {
      "cell_type": "code",
      "execution_count": 36,
      "metadata": {
        "colab": {
          "base_uri": "https://localhost:8080/"
        },
        "id": "2CvTfTB9Zw82",
        "outputId": "1a680dd9-c2b9-41cb-bded-a94e8fb6290d"
      },
      "outputs": [
        {
          "output_type": "stream",
          "name": "stdout",
          "text": [
            "<?xml version=\"1.0\" encoding=\"UTF-8\" standalone=\"yes\"?><response><comMsgHeader/><msgHeader><queryTime>2024-03-17 21:58:23.714</queryTime><resultCode>0</resultCode><resultMessage>정상적으로 처리되었습니다.</resultMessage></msgHeader><msgBody><busLocationList><endBus>0</endBus><lowPlate>0</lowPlate><plateNo>경기77바3772</plateNo><plateType>3</plateType><remainSeatCnt>-1</remainSeatCnt><routeId>234000878</routeId><stationId>101000148</stationId><stationSeq>30</stationSeq></busLocationList><busLocationList><endBus>0</endBus><lowPlate>0</lowPlate><plateNo>경기77바3531</plateNo><plateType>3</plateType><remainSeatCnt>34</remainSeatCnt><routeId>234000878</routeId><stationId>206000040</stationId><stationSeq>5</stationSeq></busLocationList><busLocationList><endBus>0</endBus><lowPlate>0</lowPlate><plateNo>경기77바1024</plateNo><plateType>3</plateType><remainSeatCnt>33</remainSeatCnt><routeId>234000878</routeId><stationId>277103149</stationId><stationSeq>10</stationSeq></busLocationList><busLocationList><endBus>0</endBus><lowPlate>0</lowPlate><plateNo>경기77바1093</plateNo><plateType>3</plateType><remainSeatCnt>10</remainSeatCnt><routeId>234000878</routeId><stationId>206000215</stationId><stationSeq>47</stationSeq></busLocationList><busLocationList><endBus>0</endBus><lowPlate>0</lowPlate><plateNo>경기77바3530</plateNo><plateType>3</plateType><remainSeatCnt>0</remainSeatCnt><routeId>234000878</routeId><stationId>206000535</stationId><stationSeq>43</stationSeq></busLocationList><busLocationList><endBus>0</endBus><lowPlate>0</lowPlate><plateNo>경기77바1108</plateNo><plateType>3</plateType><remainSeatCnt>32</remainSeatCnt><routeId>234000878</routeId><stationId>277103400</stationId><stationSeq>17</stationSeq></busLocationList><busLocationList><endBus>0</endBus><lowPlate>0</lowPlate><plateNo>경기77바1155</plateNo><plateType>3</plateType><remainSeatCnt>0</remainSeatCnt><routeId>234000878</routeId><stationId>102000070</stationId><stationSeq>34</stationSeq></busLocationList><busLocationList><endBus>0</endBus><lowPlate>0</lowPlate><plateNo>경기77바1086</plateNo><plateType>3</plateType><remainSeatCnt>43</remainSeatCnt><routeId>234000878</routeId><stationId>100000001</stationId><stationSeq>22</stationSeq></busLocationList></msgBody></response>\n"
          ]
        }
      ],
      "source": [
        "import requests\n",
        "url='http://apis.data.go.kr/6410000/buslocationservice/getBusLocationList?serviceKey=TrP4dHAFzkbYiMCqYO3uL4UF0Kem6MW4G8cYW72QDd%2BOHtHjpyHNYJOZ819N8dZaUfZwgZBZw%2FSOX8XNGfvdpg%3D%3D&routeId=234000878'\n",
        "#url='http://openapi.gbis.go.kr/ws/rest/buslocationservice?serviceKey=1234567890&routeId=234000002'\n",
        "r = requests.get(url)\n",
        "print(r.text)"
      ]
    },
    {
      "cell_type": "code",
      "source": [
        "from bs4 import BeautifulSoup\n",
        "\n",
        "soup = BeautifulSoup(r.text, features=\"xml\")"
      ],
      "metadata": {
        "id": "qSlWOrmaZ3df"
      },
      "execution_count": 37,
      "outputs": []
    },
    {
      "cell_type": "code",
      "source": [
        "soup.find_all('stationId')"
      ],
      "metadata": {
        "colab": {
          "base_uri": "https://localhost:8080/"
        },
        "id": "bKcl7EvFeK8O",
        "outputId": "43217cfc-6007-4e58-adaf-8a3f5fc747c0"
      },
      "execution_count": 38,
      "outputs": [
        {
          "output_type": "execute_result",
          "data": {
            "text/plain": [
              "[<stationId>101000148</stationId>,\n",
              " <stationId>206000040</stationId>,\n",
              " <stationId>277103149</stationId>,\n",
              " <stationId>206000215</stationId>,\n",
              " <stationId>206000535</stationId>,\n",
              " <stationId>277103400</stationId>,\n",
              " <stationId>102000070</stationId>,\n",
              " <stationId>100000001</stationId>]"
            ]
          },
          "metadata": {},
          "execution_count": 38
        }
      ]
    },
    {
      "cell_type": "code",
      "source": [],
      "metadata": {
        "id": "xNeHBddPfMf5"
      },
      "execution_count": null,
      "outputs": []
    }
  ]
}